{
  "nbformat": 4,
  "nbformat_minor": 0,
  "metadata": {
    "colab": {
      "provenance": [],
      "authorship_tag": "ABX9TyMAf32v+HoXDdJDIvLCabYW",
      "include_colab_link": true
    },
    "kernelspec": {
      "name": "python3",
      "display_name": "Python 3"
    },
    "language_info": {
      "name": "python"
    }
  },
  "cells": [
    {
      "cell_type": "markdown",
      "metadata": {
        "id": "view-in-github",
        "colab_type": "text"
      },
      "source": [
        "<a href=\"https://colab.research.google.com/github/Niharikasingh722/leaning/blob/main/random_sentence_generator(meaningless).ipynb\" target=\"_parent\"><img src=\"https://colab.research.google.com/assets/colab-badge.svg\" alt=\"Open In Colab\"/></a>"
      ]
    },
    {
      "cell_type": "code",
      "execution_count": 1,
      "metadata": {
        "id": "MFkl3q9ROik_"
      },
      "outputs": [],
      "source": [
        "import random"
      ]
    },
    {
      "cell_type": "code",
      "source": [
        "vocabulary={\n",
        "    \"noun\":['cat','dog','mother', 'teacher']\n",
        "    ,\"verb\":['run','eat','sleep','dance']\n",
        "  ,'adjective':['big','red','beautiful', 'tough', 'strict', 'experienced'],\n",
        "    'adverb':['happily','quickly','frequenctly']\n",
        "}"
      ],
      "metadata": {
        "id": "n76Vzg7DOlUC"
      },
      "execution_count": 24,
      "outputs": []
    },
    {
      "cell_type": "code",
      "source": [
        "def gen_random_sentence(vocab,num_sentences=0):\n",
        "  #sentence=[]\n",
        "  while num_sentences:\n",
        "    sentence=[]\n",
        "    for wordtype, wordList in vocab.items():\n",
        "      word=random.choice(wordList)\n",
        "      sentence.append(word)\n",
        "    num_sentences-=1\n",
        "  return \" \".join(sentence)+\".\"\n",
        "\n"
      ],
      "metadata": {
        "id": "xU9oDtSFQOeK"
      },
      "execution_count": 28,
      "outputs": []
    },
    {
      "cell_type": "code",
      "source": [
        "num_sentences=1\n",
        "sentence=gen_random_sentence(vocabulary,num_sentences)\n",
        "print(sentence)"
      ],
      "metadata": {
        "colab": {
          "base_uri": "https://localhost:8080/"
        },
        "id": "SSoOWFUHRaV_",
        "outputId": "305b5dcc-0525-4287-c0b4-c347f48d6079"
      },
      "execution_count": 29,
      "outputs": [
        {
          "output_type": "stream",
          "name": "stdout",
          "text": [
            "cat run big happily.\n"
          ]
        }
      ]
    },
    {
      "cell_type": "code",
      "source": [],
      "metadata": {
        "id": "82-aeqg2Rmk4"
      },
      "execution_count": null,
      "outputs": []
    }
  ]
}