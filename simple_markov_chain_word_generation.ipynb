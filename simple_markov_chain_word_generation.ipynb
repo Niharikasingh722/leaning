{
  "nbformat": 4,
  "nbformat_minor": 0,
  "metadata": {
    "colab": {
      "provenance": [],
      "authorship_tag": "ABX9TyN6TkIeivU6vkGUYbnzNdJD",
      "include_colab_link": true
    },
    "kernelspec": {
      "name": "python3",
      "display_name": "Python 3"
    },
    "language_info": {
      "name": "python"
    }
  },
  "cells": [
    {
      "cell_type": "markdown",
      "metadata": {
        "id": "view-in-github",
        "colab_type": "text"
      },
      "source": [
        "<a href=\"https://colab.research.google.com/github/Niharikasingh722/leaning/blob/main/simple_markov_chain_word_generation.ipynb\" target=\"_parent\"><img src=\"https://colab.research.google.com/assets/colab-badge.svg\" alt=\"Open In Colab\"/></a>"
      ]
    },
    {
      "cell_type": "code",
      "execution_count": 12,
      "metadata": {
        "colab": {
          "base_uri": "https://localhost:8080/"
        },
        "id": "fgoJrmTAJJMx",
        "outputId": "dcf3f8ea-7fb2-4465-bc2b-98d61186c7bb"
      },
      "outputs": [
        {
          "output_type": "stream",
          "name": "stdout",
          "text": [
            "markov chain  {('This', 'is', 'a'): ['simple', 'test'], ('is', 'a', 'simple'): ['example'], ('a', 'simple', 'example'): ['text'], ('simple', 'example', 'text'): ['for'], ('example', 'text', 'for'): ['testing'], ('text', 'for', 'testing'): ['the'], ('for', 'testing', 'the'): ['Markov'], ('testing', 'the', 'Markov'): ['chain'], ('the', 'Markov', 'chain'): ['text'], ('Markov', 'chain', 'text'): ['generation'], ('chain', 'text', 'generation'): ['program.'], ('text', 'generation', 'program.'): ['This'], ('generation', 'program.', 'This'): ['is'], ('program.', 'This', 'is'): ['a']}\n",
            " prefix  ('chain', 'text', 'generation')\n",
            " gen text  ['chain', 'text', 'generation']\n",
            "prefix in for  ('text', 'generation', 'program.')\n",
            "prefix in for  ('generation', 'program.', 'This')\n",
            "Generated Text:\n",
            "chain text generation program. This\n"
          ]
        }
      ],
      "source": [
        "import random\n",
        "\n",
        "def generate_markov_chain(text, order=1):\n",
        "    words = text.split()\n",
        "    markov_chain = {}\n",
        "\n",
        "    for i in range(len(words) - order):\n",
        "        prefix = tuple(words[i:i + order])\n",
        "        suffix = words[i + order]\n",
        "        if prefix in markov_chain:\n",
        "            markov_chain[prefix].append(suffix)\n",
        "        else:\n",
        "            markov_chain[prefix] = [suffix]\n",
        "    print(\"markov chain \", markov_chain)\n",
        "    return markov_chain\n",
        "\n",
        "def generate_text(markov_chain, length=100, seed=None):\n",
        "    if seed is not None:\n",
        "        random.seed(seed)\n",
        "\n",
        "    prefix = random.choice(list(markov_chain.keys()))\n",
        "    generated_text = list(prefix)\n",
        "    print(\" prefix \", prefix)\n",
        "    print(\" gen text \", generated_text)\n",
        "    for _ in range(length):\n",
        "        if prefix in markov_chain:\n",
        "            next_word = random.choice(markov_chain[prefix])\n",
        "            generated_text.append(next_word)\n",
        "            prefix = tuple(generated_text[-len(prefix):])\n",
        "            print(\"prefix in for \", prefix)\n",
        "        else:\n",
        "            break\n",
        "\n",
        "    return ' '.join(generated_text)\n",
        "\n",
        "# Example usage:\n",
        "input_text = \"This is a simple example text for testing the Markov chain text generation program. This  is a test\"\n",
        "order = 3  # Adjust the order of the Markov chain\n",
        "length = 2  # Adjust the length of the generated text\n",
        "seed = 42  # Set the random seed for reproducibility\n",
        "\n",
        "chain = generate_markov_chain(input_text, order=order)\n",
        "generated_text = generate_text(chain, length=length, seed=seed)\n",
        "#generated_text = generate_text(chain, length=length)\n",
        "print(\"Generated Text:\")\n",
        "print(generated_text)\n"
      ]
    },
    {
      "cell_type": "code",
      "source": [],
      "metadata": {
        "id": "7zjk2W4eJNNX"
      },
      "execution_count": null,
      "outputs": []
    }
  ]
}